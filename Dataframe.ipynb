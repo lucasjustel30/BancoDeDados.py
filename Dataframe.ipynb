{
  "nbformat": 4,
  "nbformat_minor": 0,
  "metadata": {
    "colab": {
      "provenance": [],
      "collapsed_sections": [],
      "authorship_tag": "ABX9TyOOo9aRIQ4p3Id5NvqY5Z8D",
      "include_colab_link": true
    },
    "kernelspec": {
      "name": "python3",
      "display_name": "Python 3"
    },
    "language_info": {
      "name": "python"
    }
  },
  "cells": [
    {
      "cell_type": "markdown",
      "metadata": {
        "id": "view-in-github",
        "colab_type": "text"
      },
      "source": [
        "<a href=\"https://colab.research.google.com/github/lucasjustel30/BancoDeDados.py/blob/main/Dataframe.ipynb\" target=\"_parent\"><img src=\"https://colab.research.google.com/assets/colab-badge.svg\" alt=\"Open In Colab\"/></a>"
      ]
    },
    {
      "cell_type": "code",
      "execution_count": 111,
      "metadata": {
        "id": "sHrgjeOLNL0q"
      },
      "outputs": [],
      "source": [
        "\n",
        "import matplotlib.pyplot as plt\n",
        "import numpy as np\n",
        "import pandas as pd\n"
      ]
    },
    {
      "cell_type": "markdown",
      "source": [
        "Dictionary into dataframe"
      ],
      "metadata": {
        "id": "wzYL1XOGXhgD"
      }
    },
    {
      "cell_type": "code",
      "source": [
        "\n",
        "data = {\n",
        "    'Team': ['Sportivo','Porteno','San Martin','Almagro','Riachuelo','Alumni'],\n",
        "    'National': [36,41,16,15,19,10],\n",
        "    'Continental':[7,5,8,1,2,1], \n",
        "    'Intercontinental':[3,1,2,0,1,1] \n",
        "}\n",
        "\n",
        "df = pd.DataFrame(data)\n",
        "\n",
        "print(df)\n",
        "\n",
        "\n",
        "\n"
      ],
      "metadata": {
        "colab": {
          "base_uri": "https://localhost:8080/"
        },
        "id": "wxes63dHXc-J",
        "outputId": "718789c2-b9f3-4d81-b9a2-3772fe339ba2"
      },
      "execution_count": 9,
      "outputs": [
        {
          "output_type": "stream",
          "name": "stdout",
          "text": [
            "         Team  National  Continental  Intercontinental\n",
            "0    Sportivo        36            7                 3\n",
            "1     Porteno        41            5                 1\n",
            "2  San Martin        16            8                 2\n",
            "3     Almagro        15            1                 0\n",
            "4   Riachuelo        19            2                 1\n",
            "5      Alumni        10            1                 1\n"
          ]
        }
      ]
    },
    {
      "cell_type": "markdown",
      "source": [
        "csv into dataframe\n"
      ],
      "metadata": {
        "id": "8fQgkwBhl1VK"
      }
    },
    {
      "cell_type": "code",
      "source": [
        "\n",
        "dados = pd.read_csv('dados.txt')\n",
        "\n",
        "dados.drop(['posicao'], axis = 1, inplace = True)\n",
        "\n",
        "print(dados)\n",
        "\n"
      ],
      "metadata": {
        "colab": {
          "base_uri": "https://localhost:8080/"
        },
        "id": "GcZ5eDoncEAa",
        "outputId": "7eeb637e-1daa-4e64-b5ee-97c978c36826"
      },
      "execution_count": 33,
      "outputs": [
        {
          "output_type": "stream",
          "name": "stdout",
          "text": [
            "    acao       setor\n",
            "0  PETR4   commodity\n",
            "1  VALE3   commodity\n",
            "2  BBSE3  seguradora\n",
            "3  ENBR3     energia\n",
            "4  CPLE6     energia\n",
            "5  BBAS3       banco\n"
          ]
        }
      ]
    },
    {
      "cell_type": "code",
      "source": [
        "\n",
        "print(df[['Team','Continental']])\n",
        "\n"
      ],
      "metadata": {
        "colab": {
          "base_uri": "https://localhost:8080/"
        },
        "id": "iNQlpqXxa9wM",
        "outputId": "84bfe733-448a-424e-884c-6b16dacaa8c4"
      },
      "execution_count": 18,
      "outputs": [
        {
          "output_type": "stream",
          "name": "stdout",
          "text": [
            "         Team  Continental\n",
            "0    Sportivo            7\n",
            "1     Porteno            5\n",
            "2  San Martin            8\n",
            "3     Almagro            1\n",
            "4   Riachuelo            2\n",
            "5      Alumni            1\n"
          ]
        }
      ]
    },
    {
      "cell_type": "code",
      "source": [
        "\n",
        "dados = pd.read_csv('dados.txt')\n",
        "\n",
        "df1 = pd.DataFrame(dados)\n",
        "\n",
        "df1.drop(['acao'], axis=1)\n",
        "\n",
        "print(df1)\n",
        "\n",
        "\n",
        "\n"
      ],
      "metadata": {
        "colab": {
          "base_uri": "https://localhost:8080/"
        },
        "id": "-MWNf98qcySu",
        "outputId": "49062008-7dd0-4b3b-adda-c56f0f75e72d"
      },
      "execution_count": 40,
      "outputs": [
        {
          "output_type": "stream",
          "name": "stdout",
          "text": [
            "    acao  posicao       setor\n",
            "0  PETR4     12.9   commodity\n",
            "1  VALE3      9.1   commodity\n",
            "2  BBSE3      7.8  seguradora\n",
            "3  ENBR3      7.6     energia\n",
            "4  CPLE6      6.0     energia\n",
            "5  BBAS3      5.3       banco\n"
          ]
        }
      ]
    },
    {
      "cell_type": "markdown",
      "source": [],
      "metadata": {
        "id": "iocGqiglhj-O"
      }
    },
    {
      "cell_type": "code",
      "source": [
        "\n",
        "dados = pd.read_csv('dados.txt')\n",
        "\n",
        "df2 = pd.DataFrame(dados)\n",
        "\n",
        "df2.drop([0], axis=0, inplace = True)\n",
        "\n",
        "print(df2)\n",
        "\n",
        "\n"
      ],
      "metadata": {
        "colab": {
          "base_uri": "https://localhost:8080/"
        },
        "id": "LFNio0QVhyDG",
        "outputId": "24d577e4-ec8f-488f-c43a-3c59ddfe6bf2"
      },
      "execution_count": 48,
      "outputs": [
        {
          "output_type": "stream",
          "name": "stdout",
          "text": [
            "    acao  posicao       setor\n",
            "1  VALE3      9.1   commodity\n",
            "2  BBSE3      7.8  seguradora\n",
            "3  ENBR3      7.6     energia\n",
            "4  CPLE6      6.0     energia\n",
            "5  BBAS3      5.3       banco\n"
          ]
        }
      ]
    },
    {
      "cell_type": "code",
      "source": [
        "\n",
        "dados = pd.read_csv('dados.txt')\n",
        "\n",
        "df3 = pd.DataFrame(dados)\n",
        "\n",
        "new_df3 = df3.append({'acao': 'SAPR11','posicao': 5.1,'setor':'saneamento'},ignore_index='TRUE')\n",
        "\n",
        "print(new_df3)\n",
        "\n",
        "\n",
        "\n",
        "\n"
      ],
      "metadata": {
        "colab": {
          "base_uri": "https://localhost:8080/"
        },
        "id": "XchUssGgjYxM",
        "outputId": "be13e268-fa2f-4397-8bfc-e17b8729472d"
      },
      "execution_count": 94,
      "outputs": [
        {
          "output_type": "stream",
          "name": "stdout",
          "text": [
            "     acao  posicao       setor\n",
            "0   PETR4     12.9   commodity\n",
            "1   VALE3      9.1   commodity\n",
            "2   BBSE3      7.8  seguradora\n",
            "3   ENBR3      7.6     energia\n",
            "4   CPLE6      6.0     energia\n",
            "5   BBAS3      5.3       banco\n",
            "6  SAPR11      5.1  saneamento\n"
          ]
        }
      ]
    },
    {
      "cell_type": "code",
      "source": [
        "\n",
        "dados = pd.read_csv('dados.txt')\n",
        "\n",
        "df4 = pd.DataFrame(dados)\n",
        "\n",
        "new_df4 = df4.append({'acao': 'SAPR11','posicao': 5.1 ,'setor':'energia'},\n",
        "                     ignore_index='TRUE')\n",
        "\n",
        "new_df4 = df4.append({'acao': 'SHUL4','posicao': 4.9 ,'setor':'industria'},\n",
        "                     ignore_index='TRUE')\n",
        "\n",
        "print(new_df4)\n",
        "\n",
        "\n",
        "\n"
      ],
      "metadata": {
        "colab": {
          "base_uri": "https://localhost:8080/"
        },
        "id": "Zn3COYNAd6dC",
        "outputId": "58d1fcf4-2e09-4e77-b7f7-877154d11b95"
      },
      "execution_count": 106,
      "outputs": [
        {
          "output_type": "stream",
          "name": "stdout",
          "text": [
            "    acao  posicao       setor\n",
            "0  PETR4     12.9   commodity\n",
            "1  VALE3      9.1   commodity\n",
            "2  BBSE3      7.8  seguradora\n",
            "3  ENBR3      7.6     energia\n",
            "4  CPLE6      6.0     energia\n",
            "5  BBAS3      5.3       banco\n",
            "6  SHUL4      4.9   industria\n"
          ]
        }
      ]
    }
  ]
}