{
  "nbformat": 4,
  "nbformat_minor": 0,
  "metadata": {
    "colab": {
      "provenance": []
    },
    "kernelspec": {
      "name": "python3",
      "display_name": "Python 3"
    },
    "language_info": {
      "name": "python"
    }
  },
  "cells": [
    {
      "cell_type": "code",
      "execution_count": 36,
      "metadata": {
        "colab": {
          "base_uri": "https://localhost:8080/"
        },
        "id": "sYPjGUIdJWVh",
        "outputId": "ccbb20d1-ecb8-42ef-8015-faf1a9c719a1"
      },
      "outputs": [
        {
          "output_type": "stream",
          "name": "stdout",
          "text": [
            "    acao  posicao       setor\n",
            "0  PETR4     12.9   commodity\n",
            "1  VALE3      9.1   commodity\n",
            "2  BBSE3      7.8  seguradora\n",
            "3  ENBR3      7.6     energia\n",
            "4  CPLE6      6.0     energia\n",
            "5  BBAS3      5.3       banco\n"
          ]
        }
      ],
      "source": [
        "import csv\n",
        "import pandas as pd\n",
        "\n",
        "df = pd.read_csv('dados.txt')\n",
        "\n",
        "print(df)\n",
        "\n",
        "\n"
      ]
    },
    {
      "cell_type": "code",
      "source": [
        "\n",
        "\n",
        "print(df['posicao'].sum())\n",
        "\n"
      ],
      "metadata": {
        "colab": {
          "base_uri": "https://localhost:8080/"
        },
        "id": "_MQ7GOehUeAs",
        "outputId": "808cec2e-7d8d-4da1-da48-4b35bfc231dc"
      },
      "execution_count": 39,
      "outputs": [
        {
          "output_type": "stream",
          "name": "stdout",
          "text": [
            "48.699999999999996\n",
            "commoditycommodityseguradoraenergiaenergiabanco\n"
          ]
        }
      ]
    },
    {
      "cell_type": "code",
      "source": [
        "\n",
        "dados_filtrado = df[['acao','setor']]\n",
        "\n",
        "print(dados_filtrado)\n",
        "\n"
      ],
      "metadata": {
        "colab": {
          "base_uri": "https://localhost:8080/"
        },
        "id": "nAZe2Q5pZv6K",
        "outputId": "982354d3-3b0b-4121-b52a-b961b676f823"
      },
      "execution_count": 57,
      "outputs": [
        {
          "output_type": "stream",
          "name": "stdout",
          "text": [
            "    acao       setor\n",
            "0  PETR4   commodity\n",
            "1  VALE3   commodity\n",
            "2  BBSE3  seguradora\n",
            "3  ENBR3     energia\n",
            "4  CPLE6     energia\n",
            "5  BBAS3       banco\n"
          ]
        }
      ]
    },
    {
      "cell_type": "code",
      "source": [
        "\n",
        "dados_filtrado['setor'].value_counts()\n",
        "\n",
        "\n"
      ],
      "metadata": {
        "colab": {
          "base_uri": "https://localhost:8080/"
        },
        "id": "xVZJzpypaEME",
        "outputId": "5b909ce2-59a9-41bd-83a8-ec685cb69932"
      },
      "execution_count": 56,
      "outputs": [
        {
          "output_type": "execute_result",
          "data": {
            "text/plain": [
              "commodity     2\n",
              "energia       2\n",
              "seguradora    1\n",
              "banco         1\n",
              "Name: setor, dtype: int64"
            ]
          },
          "metadata": {},
          "execution_count": 56
        }
      ]
    },
    {
      "cell_type": "code",
      "source": [
        "\n",
        "\n",
        "\n",
        "\n",
        "\n"
      ],
      "metadata": {
        "id": "l24RQiSgaEO5"
      },
      "execution_count": null,
      "outputs": []
    },
    {
      "cell_type": "code",
      "source": [],
      "metadata": {
        "id": "XZEL1KrSaERp"
      },
      "execution_count": null,
      "outputs": []
    },
    {
      "cell_type": "code",
      "source": [],
      "metadata": {
        "id": "slWv56csaEUR"
      },
      "execution_count": null,
      "outputs": []
    },
    {
      "cell_type": "code",
      "source": [],
      "metadata": {
        "id": "t3faGhTkaEYS"
      },
      "execution_count": null,
      "outputs": []
    },
    {
      "cell_type": "code",
      "source": [],
      "metadata": {
        "id": "DTXp6g8gaEax"
      },
      "execution_count": null,
      "outputs": []
    },
    {
      "cell_type": "code",
      "source": [],
      "metadata": {
        "id": "IEhz3I2UaEda"
      },
      "execution_count": null,
      "outputs": []
    }
  ]
}