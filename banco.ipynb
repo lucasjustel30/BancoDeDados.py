{
  "nbformat": 4,
  "nbformat_minor": 0,
  "metadata": {
    "colab": {
      "provenance": [],
      "authorship_tag": "ABX9TyNPNrpt4OhrME1h+pAjFEFN",
      "include_colab_link": true
    },
    "kernelspec": {
      "name": "python3",
      "display_name": "Python 3"
    },
    "language_info": {
      "name": "python"
    }
  },
  "cells": [
    {
      "cell_type": "markdown",
      "metadata": {
        "id": "view-in-github",
        "colab_type": "text"
      },
      "source": [
        "<a href=\"https://colab.research.google.com/github/lucasjustel30/BancoDeDados.py/blob/main/banco.ipynb\" target=\"_parent\"><img src=\"https://colab.research.google.com/assets/colab-badge.svg\" alt=\"Open In Colab\"/></a>"
      ]
    },
    {
      "cell_type": "code",
      "source": [
        "\n",
        "import numpy as np\n",
        "import matplotlib.pyplot as plt  \n",
        "import pandas as pd  \n"
      ],
      "metadata": {
        "id": "MOhs9fsFW-nx"
      },
      "execution_count": 2,
      "outputs": []
    },
    {
      "cell_type": "code",
      "source": [
        "\n",
        "print(dados['posicao'].sum())\n",
        "\n",
        "\n",
        "\n"
      ],
      "metadata": {
        "colab": {
          "base_uri": "https://localhost:8080/"
        },
        "id": "ygRRzAUhXUPY",
        "outputId": "c25ef6cd-b766-42cf-b649-3ce473883375"
      },
      "execution_count": 6,
      "outputs": [
        {
          "output_type": "stream",
          "name": "stdout",
          "text": [
            "48.699999999999996\n"
          ]
        }
      ]
    },
    {
      "cell_type": "code",
      "source": [
        "\n",
        "dados_filtrado = dados[['acao','setor']]\n",
        "\n",
        "print(dados_filtrado)\n",
        "\n",
        "\n"
      ],
      "metadata": {
        "colab": {
          "base_uri": "https://localhost:8080/"
        },
        "id": "MRvz5p1RXc21",
        "outputId": "fc36df8a-2f54-4ec9-aeb1-c4702351e196"
      },
      "execution_count": 8,
      "outputs": [
        {
          "output_type": "stream",
          "name": "stdout",
          "text": [
            "    acao       setor\n",
            "0  PETR4   commodity\n",
            "1  VALE3   commodity\n",
            "2  BBSE3  seguradora\n",
            "3  ENBR3     energia\n",
            "4  CPLE6     energia\n",
            "5  BBAS3       banco\n"
          ]
        }
      ]
    },
    {
      "cell_type": "code",
      "source": [
        "\n",
        "dados_filtrado['setor'].value_counts()\n",
        "\n",
        "\n",
        "\n"
      ],
      "metadata": {
        "colab": {
          "base_uri": "https://localhost:8080/"
        },
        "id": "wvibza27XiZI",
        "outputId": "d48442f7-5fae-4df9-bf72-ba1977f3dc69"
      },
      "execution_count": 9,
      "outputs": [
        {
          "output_type": "execute_result",
          "data": {
            "text/plain": [
              "commodity     2\n",
              "energia       2\n",
              "seguradora    1\n",
              "banco         1\n",
              "Name: setor, dtype: int64"
            ]
          },
          "metadata": {},
          "execution_count": 9
        }
      ]
    },
    {
      "cell_type": "code",
      "source": [
        "\n",
        "dados = pd.read_csv('dados.txt')\n",
        "\n",
        "print(dados)\n",
        "\n",
        "\n",
        "\n"
      ],
      "metadata": {
        "colab": {
          "base_uri": "https://localhost:8080/"
        },
        "id": "3VSsZ4P_XEqb",
        "outputId": "18ffd58e-cf7e-4538-9a96-bd3367a65a1f"
      },
      "execution_count": 4,
      "outputs": [
        {
          "output_type": "stream",
          "name": "stdout",
          "text": [
            "    acao  posicao       setor\n",
            "0  PETR4     12.9   commodity\n",
            "1  VALE3      9.1   commodity\n",
            "2  BBSE3      7.8  seguradora\n",
            "3  ENBR3      7.6     energia\n",
            "4  CPLE6      6.0     energia\n",
            "5  BBAS3      5.3       banco\n"
          ]
        }
      ]
    },
    {
      "cell_type": "code",
      "execution_count": 3,
      "metadata": {
        "colab": {
          "base_uri": "https://localhost:8080/"
        },
        "id": "0A3K-2sRKN4S",
        "outputId": "d62ddf60-3c2f-477f-ab61-1c704f082930"
      },
      "outputs": [
        {
          "output_type": "stream",
          "name": "stdout",
          "text": [
            "posicao        7.6\n",
            "setor      energia\n",
            "Name: ENBR3, dtype: object\n"
          ]
        }
      ],
      "source": [
        "\n",
        "\n",
        "dados = pd.read_csv('dados.txt', index_col='acao')\n",
        "\n",
        "first = dados.loc['ENBR3']\n",
        "\n",
        "print(first)\n",
        "\n",
        "\n",
        "\n"
      ]
    },
    {
      "cell_type": "code",
      "source": [
        "dados = pd.read_csv('dados.txt', index_col='acao')\n",
        "\n",
        "second = dados.iloc[4]\n",
        "\n",
        "print(second)\n",
        "\n",
        "\n",
        "\n",
        "\n",
        "\n",
        "\n",
        "\n",
        "\n"
      ],
      "metadata": {
        "colab": {
          "base_uri": "https://localhost:8080/"
        },
        "id": "RARqrLEXuLp8",
        "outputId": "12294831-7fb8-494e-87f5-d67b6368fe67"
      },
      "execution_count": null,
      "outputs": [
        {
          "output_type": "stream",
          "name": "stdout",
          "text": [
            "posicao        6.0\n",
            "setor      energia\n",
            "Name: CPLE6, dtype: object\n"
          ]
        }
      ]
    },
    {
      "cell_type": "code",
      "source": [
        "dados = pd.read_csv('dados.txt', index_col='setor')\n",
        "\n",
        "third = dados.loc['commodity']\n",
        "\n",
        "print(third)\n",
        "\n",
        "\n",
        "\n",
        "\n"
      ],
      "metadata": {
        "colab": {
          "base_uri": "https://localhost:8080/"
        },
        "id": "qb82nUsRuoXW",
        "outputId": "573972f6-f8b1-49fe-c11f-0b26500ad809"
      },
      "execution_count": null,
      "outputs": [
        {
          "output_type": "stream",
          "name": "stdout",
          "text": [
            "            acao  posicao\n",
            "setor                    \n",
            "commodity  PETR4     12.9\n",
            "commodity  VALE3      9.1\n"
          ]
        }
      ]
    },
    {
      "cell_type": "code",
      "source": [
        "\n",
        "dados = pd.read_csv('dados.txt', index_col='setor')\n",
        "\n",
        "setor = dados.loc['energia']\n",
        "\n",
        "print(setor)\n",
        "\n"
      ],
      "metadata": {
        "colab": {
          "base_uri": "https://localhost:8080/"
        },
        "id": "lbwuverKwIKH",
        "outputId": "e354c460-0eb8-48c5-cc4f-0ae8337448ee"
      },
      "execution_count": null,
      "outputs": [
        {
          "output_type": "stream",
          "name": "stdout",
          "text": [
            "          acao  posicao\n",
            "setor                  \n",
            "energia  ENBR3      7.6\n",
            "energia  CPLE6      6.0\n"
          ]
        }
      ]
    },
    {
      "cell_type": "code",
      "source": [
        "\n",
        "dados = pd.read_csv('dados.txt', index_col='setor')\n",
        "\n",
        "print(dados['posicao'].sum())\n",
        "\n",
        "\n"
      ],
      "metadata": {
        "colab": {
          "base_uri": "https://localhost:8080/"
        },
        "id": "3SnzATr2wIU2",
        "outputId": "e5fac12e-6a2f-4425-9cf6-63c4e4ceabe7"
      },
      "execution_count": null,
      "outputs": [
        {
          "output_type": "stream",
          "name": "stdout",
          "text": [
            "48.699999999999996\n"
          ]
        }
      ]
    }
  ]
}